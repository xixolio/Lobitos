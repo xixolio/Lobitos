{
 "cells": [
  {
   "cell_type": "markdown",
   "metadata": {},
   "source": [
    "# Lobitos y conejos\n",
    "\n",
    "## Modelo de agentes\n",
    "\n",
    "###  (no correr, demora mucho y sus estadísticas ya fueron extraídas)"
   ]
  },
  {
   "cell_type": "markdown",
   "metadata": {
    "collapsed": true
   },
   "source": [
    "import numpy as np\n",
    "from itertools import product\n",
    "\n",
    "np.random.seed(42)\n",
    "grid_size = 100\n",
    "\n",
    "#grid = np.zeros((grid_size,grid_size))\n",
    "\n",
    "#wolves = []\n",
    "#hare = []\n",
    "\n",
    "Nw = range(5,15)\n",
    "Nh = range(30,60)\n",
    "Nw = [10]\n",
    "Nh = [50]\n",
    "\n",
    "conditional_prob = []\n",
    "\n",
    "for element in product(Nw,Nh):\n",
    "\n",
    "    Nw = element[0]\n",
    "    Nh = element[1]\n",
    "    \n",
    "    hunt_zone = 2\n",
    "    \n",
    "    hunt_prob = 0.5\n",
    "    \n",
    "    wolf_birth_rate = 0.6\n",
    "    hare_birth_rate = 0.05\n",
    "    \n",
    "    #wolf_birth_rate = 0.4\n",
    "    #hare_birth_rate = 0.1\n",
    "    \n",
    "    #wolf_life = 60\n",
    "    #hare_life = 35\n",
    "    \n",
    "    wolf_death_rate = 0.04\n",
    "    #hare_death_rate = 0.\n",
    "    \n",
    "    wolves = np.random.randint(0,grid_size,(Nw,2))\n",
    "    hare = np.random.randint(0,grid_size,(Nh,2))\n",
    "    \n",
    "    wolves_life = np.zeros((Nw))\n",
    "    hares_life = np.zeros((Nh))\n",
    "    \n",
    "    iterations = 2000\n",
    "    \n",
    "    # movement\n",
    "    \n",
    "    historical_wolves = []\n",
    "    historical_hare = []\n",
    "    \n",
    "    \n",
    "    for i in range(iterations):\n",
    "        \n",
    "        Nw = wolves.shape[0]\n",
    "        Nh = hare.shape[0]\n",
    "        \n",
    "        \n",
    "        # Reproducir conejos\n",
    "        \n",
    "        h_birth_matrix = np.random.uniform(0,1,Nh)\n",
    "        temp_h_birth_matrix = np.zeros(h_birth_matrix.shape)\n",
    "        temp_h_birth_matrix[h_birth_matrix > hare_birth_rate] = 0\n",
    "        temp_h_birth_matrix[h_birth_matrix <= hare_birth_rate] = 1\n",
    "        h_birth_matrix = temp_h_birth_matrix\n",
    "        \n",
    "        new_Nh = int(np.sum(h_birth_matrix))\n",
    "        temp_hare = np.zeros((new_Nh+Nh,2))\n",
    "        \n",
    "        temp_hare[0:Nh,:] = hare\n",
    "        temp_hare[Nh:,:] = np.random.randint(0,grid_size,(new_Nh,2))\n",
    "        \n",
    "        hare = temp_hare\n",
    "        \n",
    "        \n",
    "        Nh = hare.shape[0]\n",
    "        \n",
    "        \n",
    "        \n",
    "        # Movimiento de conejos y lobos\n",
    "              \n",
    "        wpos = np.random.randint(-1,1,(Nw,2))\n",
    "        wolves += wpos\n",
    "        wolves = wolves%grid_size\n",
    "        \n",
    "               \n",
    "        hpos = np.random.randint(-1,1,(Nh,2))\n",
    "        hare += hpos\n",
    "        hare = hare%grid_size\n",
    "        \n",
    "        # Caza de conejos\n",
    "        \n",
    "        X = np.abs(hare[:,0].reshape(-1,1).transpose() - wolves[:,0].reshape(-1,1)).reshape(Nw,Nh,1)\n",
    "        \n",
    "        Y = np.abs(hare[:,1].reshape(-1,1).transpose() - wolves[:,1].reshape(-1,1)).reshape(Nw,Nh,1)\n",
    "        \n",
    "        pos = np.concatenate((X,Y),axis=2)\n",
    "    \n",
    "        distance = np.max(pos,axis=2)\n",
    "        \n",
    "        temp_distance = np.zeros(distance.shape)\n",
    "        \n",
    "        temp_distance[distance > hunt_zone] = 0\n",
    "        \n",
    "        temp_distance[distance <= hunt_zone] = 1\n",
    "        \n",
    "        # quienes mataron?\n",
    "        wolf_hunt = np.sum(temp_distance,axis=1)\n",
    "        \n",
    "        \n",
    "        wolf_hunt_prob = np.random.uniform(0,1,wolf_hunt.shape)\n",
    "        \n",
    "        wolf_hunt_prob[wolf_hunt_prob < (1-hunt_prob)] = 0\n",
    "        wolf_hunt_prob[wolf_hunt_prob >= (1-hunt_prob)] = 1\n",
    "        \n",
    "        wolf_hunt = wolf_hunt*wolf_hunt_prob\n",
    "        wolf_hunt[wolf_hunt>0] = 1 # vector con 1's y 0's que indican si el lobo logró cazar o no \n",
    "        \n",
    "        random = np.random.uniform(0,1,temp_distance.shape)\n",
    "        \n",
    "        wolf_selection = random*temp_distance \n",
    "        \n",
    "        selected = np.argmax(wolf_selection,axis=1)\n",
    "        \n",
    "        final_selected = np.zeros((temp_distance.shape))\n",
    "        \n",
    "        for j in range(Nw):\n",
    "            \n",
    "            final_selected[j,selected[j]] = 1*wolf_hunt[j]\n",
    "        \n",
    "        \n",
    "        \n",
    "        #hunt_matrix = np.random.uniform(0,1,distance.shape)\n",
    "        \n",
    "        #temp_hunt_matrix = np.zeros(hunt_matrix.shape)\n",
    "        \n",
    "        #temp_hunt_matrix[hunt_matrix < hunt_prob] = 1\n",
    "        #temp_hunt_matrix[hunt_matrix >= hunt_prob] = 0\n",
    "            \n",
    "        #hunt_matrix = temp_hunt_matrix * distance\n",
    "        \n",
    "        # Matar conejos\n",
    "        \n",
    "        \n",
    "        #hunted = np.sum(hunt_matrix,axis=0)\n",
    "        \n",
    "        hunted = np.sum(final_selected,axis=0)\n",
    "        \n",
    "        hunted[hunted>0] = 1\n",
    "        \n",
    "        death_hare = np.sum(hunted>0)\n",
    "        \n",
    "        conditional_prob.append([death_hare,Nh,Nw])\n",
    "        \n",
    "        #temp_hare = np.zeros((Nh - len(hunted),2))\n",
    "        \n",
    "        #hares_life = hares_life[np.argwhere(hunted != 1)[:,0]]\n",
    "        hare = hare[np.argwhere(hunted != 1)[:,0],:]\n",
    "                \n",
    "        #hare = temp_hare\n",
    "        Nh = len(hare)\n",
    "        \n",
    "        # Muerte natural\n",
    "        \n",
    "        death_prob = np.random.uniform(0,1,Nw)\n",
    "        surv_index = np.argwhere(death_prob > wolf_death_rate)[:,0]\n",
    "        #wolves_life = wolves_life[surv_index]\n",
    "        wolves = wolves[surv_index]\n",
    "        \n",
    "        Nw = wolves.shape[0]\n",
    "        \n",
    "        # Reproducir lobos\n",
    "        \n",
    "        #it_hunted = np.sum(hunt_matrix,axis=1)\n",
    "        #it_hunted[it_hunted>0] = 1\n",
    "        \n",
    "        wolf_birth_prob = np.random.uniform(0,1,death_hare)\n",
    "        wolf_birth_prob[wolf_birth_prob < (1-wolf_birth_rate)] = 0\n",
    "        wolf_birth_prob[wolf_birth_prob >= (1-wolf_birth_rate)] = 1\n",
    "        \n",
    "        #w_birth_matrix = np.random.uniform(0,1,it_hunted.shape)\n",
    "        #temp_w_birth_matrix = np.zeros(w_birth_matrix.shape)\n",
    "        \n",
    "        #temp_w_birth_matrix[w_birth_matrix > wolf_birth_rate] = 0\n",
    "        #temp_w_birth_matrix[w_birth_matrix <= wolf_birth_rate] = 1\n",
    "        \n",
    "        #w_birth_matrix = temp_w_birth_matrix * it_hunted\n",
    "        \n",
    "        new_Nw = int(np.sum(wolf_birth_prob))\n",
    "        print(new_Nw)\n",
    "        print(death_hare)\n",
    "        temp_wolves = np.zeros((new_Nw+Nw,2))\n",
    "        \n",
    "        temp_wolves[0:Nw,:] = wolves\n",
    "        temp_wolves[Nw:,:] = np.random.randint(0,grid_size,(new_Nw,2))\n",
    "        \n",
    "        wolves = temp_wolves\n",
    "        \n",
    "        Nw = wolves.shape[0]\n",
    "        \n",
    "        print(\"iteracion: \"+str(i))\n",
    "        print(\"lobos actuales: \"+str(Nw))\n",
    "        print(\"conejos actuales: \"+str(Nh))\n",
    "        \n",
    "        \n",
    "        historical_wolves.append(Nw)\n",
    "        historical_hare.append(Nh)\n",
    "        \n",
    "        iterations2 = i\n",
    "        \n",
    "        if Nh == 0 or Nw == 0:\n",
    "            \n",
    "            break\n",
    "    \n",
    "    "
   ]
  },
  {
   "cell_type": "markdown",
   "metadata": {},
   "source": [
    "## Modelo de poblaciones discreto"
   ]
  },
  {
   "cell_type": "code",
   "execution_count": 5,
   "metadata": {},
   "outputs": [],
   "source": [
    "# Se utilizan los datos que se encuentran en el archivo conditional_prob1.txt\n",
    "# dara calcular la esperanza condicional de muerte de conejos dada la cantidad\n",
    "# de conejos y la cantidad de lobos. Además, se estima la desviación estándar\n",
    "# de esta variable aleatoria condicional, en caso de que se quiera utilizar\n",
    "# para el ruido blanco que es incorporado en las ecuaciones de poblaciones.\n",
    "\n",
    "import numpy as np \n",
    "\n",
    "conditional_prob = np.loadtxt(\"conditional_prob1.txt\")\n",
    "dummy = np.array(conditional_prob)\n",
    "il1 = 100\n",
    "il2 = 100\n",
    "percentil_hare = np.arange(0,100,100/il1)\n",
    "percentil_wolves = np.arange(0,100,100/il2)\n",
    "\n",
    "# Intervalos discretizados usando percentiles para la estimación de la esperanza\n",
    "\n",
    "hare_intervals = np.percentile(dummy[:,1],percentil_hare)\n",
    "wolves_intervals = np.percentile(dummy[:,2],percentil_wolves)\n",
    "\n",
    "death_count = np.zeros((il1,il2))\n",
    "\n",
    "min_value = lambda a, value: min(range(len(a)), key=lambda i: abs(a[i]-value))\n",
    "\n",
    "count = np.zeros((il1,il2))\n",
    "\n",
    "# Conteo de la cantidad de muertes en cada intervalo\n",
    "\n",
    "for element in dummy:\n",
    "    \n",
    "    y = min_value(hare_intervals,element[1])\n",
    "    z = min_value(wolves_intervals,element[2])\n",
    "    \n",
    "    death_count[y,z] += element[0]\n",
    "    count[y,z] += 1\n",
    "    \n",
    "x = count.shape[0]\n",
    "y = count.shape[1]\n",
    "\n",
    "count[count==0] = 1 # para evitar dividir por 0 y que el universo explote\n",
    "\n",
    "expected_death = death_count/ count\n",
    "\n",
    "# Estimación de la varianza \n",
    "\n",
    "var = np.zeros((il1,il2))\n",
    "\n",
    "for element in dummy:\n",
    "    y = min_value(hare_intervals,element[1])\n",
    "    z = min_value(wolves_intervals,element[2])\n",
    "    \n",
    "    var[y,z] += (element[0] - expected_death[y,z])**2\n",
    "\n",
    "count[count<2] = 2\n",
    "            \n",
    "var = var / (count - 1)"
   ]
  },
  {
   "cell_type": "markdown",
   "metadata": {},
   "source": [
    "### Una celda"
   ]
  },
  {
   "cell_type": "code",
   "execution_count": 6,
   "metadata": {},
   "outputs": [],
   "source": [
    "min_value = lambda a, value: min(range(len(a)), key=lambda i: abs(a[i]-value))\n",
    "\n",
    "iterations = 4000\n",
    "Xh = np.zeros((iterations+1))\n",
    "Xw = np.zeros((iterations+1))\n",
    "\n",
    "Xh[0] = 2\n",
    "Xw[0] = 2\n",
    "wolf_birth_rate = 0.6\n",
    "hare_birth_rate = 0.05\n",
    "wolf_death_rate = 0.04\n",
    "\n",
    "for i in range(iterations):\n",
    "    \n",
    "    y = min_value(hare_intervals,Xh[i])\n",
    "    z = min_value(wolves_intervals,Xw[i])\n",
    "    \n",
    "    noise =  np.random.normal(0,np.sqrt(var[y,z]))\n",
    "    #Xh[i+1] = np.max([(hare_birth_rate + 1) * Xh[i] - expected_death[y,z] +  noise,0]) \n",
    "    Xh[i+1] = (hare_birth_rate + 1) * Xh[i] - expected_death[y,z] +  noise\n",
    "    \n",
    "    #true_death = np.min([expected_death[y,z] - noise, Xh[i]])\n",
    "    true_death = expected_death[y,z] - noise\n",
    "    \n",
    "    #Xw[i+1] = np.max([Xw[i] + wolf_birth_rate* true_death  - wolf_death_rate * Xw[i],0])\n",
    "    Xw[i+1] = Xw[i] + wolf_birth_rate* true_death  - wolf_death_rate * Xw[i]\n"
   ]
  },
  {
   "cell_type": "code",
   "execution_count": 7,
   "metadata": {},
   "outputs": [
    {
     "data": {
      "image/png": "[encoded data removed]",
      "text/plain": [
       "<matplotlib.figure.Figure at 0x25e61310860>"
      ]
     },
     "metadata": {},
     "output_type": "display_data"
    }
   ],
   "source": [
    "\n",
    "import matplotlib.pyplot as plt\n",
    "\n",
    "x = range(iterations+1)\n",
    "\n",
    "\n",
    "plt.plot(x,Xw,'r.',label='Lobos')\n",
    "plt.plot(x,Xh,'b.',label='Conejos')\n",
    "plt.xlabel('iteraciones')\n",
    "plt.ylabel('poblacion')\n",
    "plt.legend()\n",
    "plt.show()"
   ]
  },
  {
   "cell_type": "markdown",
   "metadata": {
    "collapsed": true
   },
   "source": [
    "### Multiples celdas"
   ]
  },
  {
   "cell_type": "code",
   "execution_count": 9,
   "metadata": {},
   "outputs": [],
   "source": [
    "grid_size = 10\n",
    "iterations = 3000\n",
    "Xh = np.zeros((grid_size,grid_size,iterations+1))\n",
    "Xw = np.zeros((grid_size,grid_size,iterations+1))\n",
    "\n",
    "Xh[:,:,0] = 100 + np.random.uniform(-10,10,size=(grid_size,grid_size))\n",
    "Xw[:,:,0] = 10 + np.random.uniform(-1,1,size=(grid_size,grid_size))\n",
    "\n",
    "wolf_birth_rate = 0.6\n",
    "hare_birth_rate = 0.05\n",
    "wolf_death_rate = 0.04\n",
    "\n",
    "f = 0.003\n",
    "\n",
    "y = np.zeros((grid_size,grid_size)).astype(int)\n",
    "z = np.zeros((grid_size,grid_size)).astype(int)\n",
    "\n",
    "for i in range(iterations):\n",
    "    \n",
    "    for j in range(grid_size):\n",
    "        for k in range(grid_size):\n",
    "            \n",
    "            y[j,k] = min_value(hare_intervals,Xh[j,k,i])\n",
    "            z[j,k] = min_value(wolves_intervals,Xw[j,k,i])\n",
    "            \n",
    "    death = expected_death[y.flatten(),z.flatten()].reshape(grid_size,grid_size)\n",
    "    death_var = var[y.flatten(),z.flatten()].reshape(grid_size,grid_size)\n",
    "    noise = np.random.normal(0,1*np.sqrt(death_var))\n",
    "    true_death = Xh[:,:,i] - death + noise\n",
    "    true_death[true_death<0] = Xh[:,:,i][true_death<0]\n",
    "    true_death[true_death>0] = death[true_death>0] - noise[true_death>0]\n",
    "    \n",
    "    \n",
    "    Xh[:,:,i+1] = (hare_birth_rate + 1) * Xh[:,:,i] - true_death \n",
    "              \n",
    "    Xw[:,:,i+1] = Xw[:,:,i] + wolf_birth_rate*(true_death )  - wolf_death_rate * Xw[:,:,i]\n",
    "    \n",
    "        \n",
    "    noise2 = 0*np.random.normal(0,0.003,size=(grid_size,grid_size))\n",
    "    Xh[:,:,i+1] += (f + noise2) *(-4*Xh[:,:,i+1] + np.roll(Xh[:,:,i+1],1,axis=0) \\\n",
    "      + np.roll(Xh[:,:,i+1],-1,axis=0) + np.roll(Xh[:,:,i+1],-1,axis=1) \\\n",
    "      + np.roll(Xh[:,:,i+1],1,axis=1))\n",
    "    \n",
    "    Xw[:,:,i+1] += (f + noise2) *(-4*Xw[:,:,i+1] + np.roll(Xw[:,:,i+1],1,axis=0) \\\n",
    "      + np.roll(Xw[:,:,i+1],-1,axis=0) + np.roll(Xw[:,:,i+1],-1,axis=1) \\\n",
    "      + np.roll(Xw[:,:,i+1],1,axis=1))\n",
    "\n",
    "    "
   ]
  },
  {
   "cell_type": "code",
   "execution_count": 10,
   "metadata": {},
   "outputs": [
    {
     "data": {
      "image/png": "[encoded data removed]",
      "text/plain": [
       "<matplotlib.figure.Figure at 0x25e61265198>"
      ]
     },
     "metadata": {},
     "output_type": "display_data"
    }
   ],
   "source": [
    "import matplotlib.pyplot as plt\n",
    "\n",
    "x = range(iterations+1)\n",
    "\n",
    "plt.plot(x,Xw[5,5],'r.',label='Lobos')\n",
    "plt.plot(x,Xh[5,5],'b.',label='Conejos')\n",
    "plt.xlabel('iteraciones')\n",
    "plt.ylabel('poblacion')\n",
    "plt.legend()\n",
    "plt.show()   "
   ]
  },
  {
   "cell_type": "code",
   "execution_count": 6,
   "metadata": {
    "scrolled": false
   },
   "outputs": [
    {
     "data": {
      "application/vnd.jupyter.widget-view+json": {
       "model_id": "ebd686814068473896250b6cd824a416",
       "version_major": 2,
       "version_minor": 0
      },
      "text/plain": [
       "interactive(children=(IntSlider(value=1000, description='t', max=3000), Output()), _dom_classes=('widget-inter…"
      ]
     },
     "metadata": {},
     "output_type": "display_data"
    },
    {
     "data": {
      "text/plain": [
       "<function __main__.visor(lobos, conejos, t=1000)>"
      ]
     },
     "execution_count": 6,
     "metadata": {},
     "output_type": "execute_result"
    }
   ],
   "source": [
    "from __future__ import print_function\n",
    "from ipywidgets import interact, interactive, fixed, interact_manual\n",
    "import ipywidgets as widgets\n",
    "import seaborn as sns\n",
    "\n",
    "def visor(lobos,conejos,t=1000):\n",
    "    picture_lobos = []\n",
    "    picture_conejos = []\n",
    "    for k in range(0,len(lobos[:,0])):\n",
    "        for i in range(0,len(lobos[0,:])):\n",
    "            picture_lobos.append(lobos[k,i][t])\n",
    "            picture_conejos.append(conejos[k,i][t])\n",
    "    fig, (ax1, ax2) = plt.subplots(1,2, figsize=(12,5))\n",
    "    sns.heatmap(np.array(picture_lobos).reshape(len(lobos[0,:]),len(lobos[:,0])),ax=ax1,vmin=0,vmax=300)\n",
    "    sns.heatmap(np.array(picture_conejos).reshape(len(lobos[0,:]),len(lobos[:,0])),ax=ax2,vmin=0,vmax=300)\n",
    "    plt.show()\n",
    "interact(visor,lobos=fixed(Xw),conejos=fixed(Xh),t=(0,iterations,1))"
   ]
  },
  {
   "cell_type": "code",
   "execution_count": 7,
   "metadata": {},
   "outputs": [
    {
     "data": {
      "text/plain": [
       "array([ 10.1995616 ,  11.60134968,  11.39568246, ..., 126.24965489,\n",
       "       124.73143013, 122.98869304])"
      ]
     },
     "execution_count": 7,
     "metadata": {},
     "output_type": "execute_result"
    }
   ],
   "source": [
    "Xw[5,5]"
   ]
  },
  {
   "cell_type": "code",
   "execution_count": 8,
   "metadata": {},
   "outputs": [
    {
     "data": {
      "image/png": "[encoded data removed]",
      "text/plain": [
       "<Figure size 432x288 with 1 Axes>"
      ]
     },
     "metadata": {},
     "output_type": "display_data"
    }
   ],
   "source": [
    "grid_size = 10\n",
    "iterations = 2000\n",
    "Xh = np.zeros((grid_size,grid_size,iterations+1))\n",
    "Xw = np.zeros((grid_size,grid_size,iterations+1))\n",
    "\n",
    "dx = 1/grid_size\n",
    "\n",
    "dt = 1e-2\n",
    "\n",
    "Xh[:,:,0] = 2 + np.random.uniform(-10,10,size=(grid_size,grid_size))\n",
    "Xw[:,:,0] = 2 + np.random.uniform(-1,1,size=(grid_size,grid_size))\n",
    "\n",
    "r = 0.6\n",
    "b = 0.05\n",
    "d = 0.04\n",
    "\n",
    "f = 0.003\n",
    "\n",
    "y = np.zeros((grid_size,grid_size)).astype(int)\n",
    "z = np.zeros((grid_size,grid_size)).astype(int)\n",
    "\n",
    "\n",
    "    \n",
    "\n",
    "for i in range(iterations):\n",
    "    \n",
    "    for j in range(grid_size):\n",
    "        for k in range(grid_size):\n",
    "            \n",
    "            y[j,k] = min_value(hare_intervals,Xh[j,k,i])\n",
    "            z[j,k] = min_value(wolves_intervals,Xw[j,k,i])\n",
    "            \n",
    "    death = expected_death[y.flatten(),z.flatten()].reshape(grid_size,grid_size)\n",
    "    death_var = var[y.flatten(),z.flatten()].reshape(grid_size,grid_size)\n",
    "    \n",
    "    Uh = Xh[:,:,i]\n",
    "    Uw = Xw[:,:,i]\n",
    "    \n",
    "    Wh = (np.roll(Uh,1,axis=0) + np.roll(Uh,-1,axis=0) +\\\n",
    "              np.roll(Uh,-1,axis=1) + np.roll(Uh,1,axis=1) - 4*Uh)/dx**2\n",
    "          \n",
    "    Ww = (np.roll(Uw,1,axis=0) + np.roll(Uw,-1,axis=0) +\\\n",
    "              np.roll(Uw,-1,axis=1) + np.roll(Uw,1,axis=1) - 4*Uw)/dx**2\n",
    "          \n",
    "    dW =  np.random.normal(0,np.sqrt(dt),size=(grid_size,grid_size))\n",
    "    \n",
    "    Xh[:,:,i+1] = Uh + Uh*b*dt + f*Wh*dt + np.sqrt(death_var)*dW - death*dt\n",
    "    Xw[:,:,i+1] = Uw + (death*dt - np.sqrt(death_var)*dW)*r - Uw*d*dt + f*Ww*dt\n",
    "     \n",
    "        \n",
    "#%%\n",
    "\n",
    "import matplotlib.pyplot as plt\n",
    "\n",
    "x = range(iterations+1)\n",
    "\n",
    "plt.plot(x,np.sum(np.sum(Xw,axis=0),axis=0),'r.',label='Lobos')\n",
    "plt.plot(x,np.sum(np.sum(Xh,axis=0),axis=0),'b.',label='Conejos')\n",
    "plt.xlabel('iteraciones')\n",
    "plt.ylabel('poblacion')\n",
    "plt.legend()\n",
    "plt.show()  \n",
    "        "
   ]
  },
  {
   "cell_type": "code",
   "execution_count": 26,
   "metadata": {},
   "outputs": [
    {
     "data": {
      "text/plain": [
       "array([1.000e+00, 2.000e+00, 3.000e+00, 5.000e+00, 6.000e+00, 8.000e+00,\n",
       "       9.000e+00, 1.100e+01, 1.300e+01, 1.500e+01, 1.700e+01, 1.900e+01,\n",
       "       2.100e+01, 2.200e+01, 2.400e+01, 2.600e+01, 2.900e+01, 3.100e+01,\n",
       "       3.300e+01, 3.500e+01, 3.700e+01, 4.000e+01, 4.200e+01, 4.400e+01,\n",
       "       4.700e+01, 5.000e+01, 5.300e+01, 5.600e+01, 5.900e+01, 6.200e+01,\n",
       "       6.500e+01, 6.800e+01, 7.100e+01, 7.500e+01, 7.800e+01, 8.100e+01,\n",
       "       8.500e+01, 8.900e+01, 9.300e+01, 9.700e+01, 1.000e+02, 1.040e+02,\n",
       "       1.080e+02, 1.120e+02, 1.160e+02, 1.190e+02, 1.230e+02, 1.270e+02,\n",
       "       1.310e+02, 1.350e+02, 1.390e+02, 1.430e+02, 1.470e+02, 1.510e+02,\n",
       "       1.560e+02, 1.600e+02, 1.640e+02, 1.680e+02, 1.730e+02, 1.780e+02,\n",
       "       1.820e+02, 1.870e+02, 1.930e+02, 1.980e+02, 2.040e+02, 2.100e+02,\n",
       "       2.150e+02, 2.220e+02, 2.280e+02, 2.340e+02, 2.420e+02, 2.490e+02,\n",
       "       2.570e+02, 2.640e+02, 2.730e+02, 2.820e+02, 2.920e+02, 3.030e+02,\n",
       "       3.130e+02, 3.250e+02, 3.380e+02, 3.520e+02, 3.660e+02, 3.820e+02,\n",
       "       3.980e+02, 4.160e+02, 4.350e+02, 4.550e+02, 4.770e+02, 5.010e+02,\n",
       "       5.270e+02, 5.550e+02, 5.880e+02, 6.230e+02, 6.640e+02, 7.110e+02,\n",
       "       7.710e+02, 8.440e+02, 9.530e+02, 1.164e+03])"
      ]
     },
     "execution_count": 26,
     "metadata": {},
     "output_type": "execute_result"
    }
   ],
   "source": [
    "hare_intervals"
   ]
  },
  {
   "cell_type": "code",
   "execution_count": 22,
   "metadata": {},
   "outputs": [
    {
     "data": {
      "text/plain": [
       "(100, 100)"
      ]
     },
     "execution_count": 22,
     "metadata": {},
     "output_type": "execute_result"
    }
   ],
   "source": [
    "expected_death.shape"
   ]
  },
  {
   "cell_type": "code",
   "execution_count": 27,
   "metadata": {},
   "outputs": [
    {
     "data": {
      "text/plain": [
       "array([1.00000e+00, 4.00000e+00, 7.00000e+00, 1.00000e+01, 1.20000e+01,\n",
       "       1.40000e+01, 1.60000e+01, 1.80000e+01, 1.90000e+01, 2.10000e+01,\n",
       "       2.20000e+01, 2.40000e+01, 2.60000e+01, 2.80000e+01, 3.00000e+01,\n",
       "       3.20000e+01, 3.50000e+01, 3.70000e+01, 4.00000e+01, 4.20000e+01,\n",
       "       4.40000e+01, 4.70000e+01, 5.00000e+01, 5.30000e+01, 5.60000e+01,\n",
       "       5.90000e+01, 6.20000e+01, 6.50000e+01, 6.80000e+01, 7.10000e+01,\n",
       "       7.50000e+01, 7.80000e+01, 8.10000e+01, 8.50000e+01, 8.80000e+01,\n",
       "       9.20000e+01, 9.60000e+01, 1.00000e+02, 1.03000e+02, 1.07000e+02,\n",
       "       1.11000e+02, 1.15000e+02, 1.19000e+02, 1.23000e+02, 1.27000e+02,\n",
       "       1.31000e+02, 1.36000e+02, 1.40000e+02, 1.45000e+02, 1.50000e+02,\n",
       "       1.55000e+02, 1.59000e+02, 1.64000e+02, 1.68000e+02, 1.73000e+02,\n",
       "       1.78000e+02, 1.82000e+02, 1.87000e+02, 1.92000e+02, 1.97000e+02,\n",
       "       2.02000e+02, 2.07000e+02, 2.13000e+02, 2.18000e+02, 2.24000e+02,\n",
       "       2.30000e+02, 2.36000e+02, 2.42000e+02, 2.49000e+02, 2.56000e+02,\n",
       "       2.63000e+02, 2.71000e+02, 2.79000e+02, 2.87000e+02, 2.95000e+02,\n",
       "       3.04000e+02, 3.14000e+02, 3.24000e+02, 3.35000e+02, 3.47000e+02,\n",
       "       3.60000e+02, 3.74000e+02, 3.88000e+02, 4.04000e+02, 4.21000e+02,\n",
       "       4.39000e+02, 4.59000e+02, 4.80000e+02, 5.02000e+02, 5.26000e+02,\n",
       "       5.52000e+02, 5.83000e+02, 6.14000e+02, 6.52000e+02, 6.94000e+02,\n",
       "       7.45000e+02, 8.05000e+02, 8.84000e+02, 9.96000e+02, 1.21932e+03])"
      ]
     },
     "execution_count": 27,
     "metadata": {},
     "output_type": "execute_result"
    }
   ],
   "source": [
    "wolves_intervals"
   ]
  },
  {
   "cell_type": "code",
   "execution_count": 28,
   "metadata": {},
   "outputs": [
    {
     "name": "stdout",
     "output_type": "stream",
     "text": [
      "[4.47034836e-08 1.86264515e-09 1.49011612e-08 ... 3.53458333e+02\n",
      " 3.57500000e+02 6.21293333e+02]\n",
      "[  0.           0.           0.         ... 353.45833333 357.5\n",
      " 621.29333333]\n"
     ]
    },
    {
     "data": {
      "text/plain": [
       "4.481035631296237e-06"
      ]
     },
     "execution_count": 28,
     "metadata": {},
     "output_type": "execute_result"
    }
   ],
   "source": [
    "from scipy.interpolate import Rbf\n",
    "\n",
    "W,H = np.meshgrid(wolves_intervals, hare_intervals)\n",
    "H = H.flatten()\n",
    "W = W.flatten()\n",
    "ED = expected_death.flatten()\n",
    "\n",
    "rbfi = Rbf(H, W, ED, function = 'thin_plate')\n",
    "ed = rbfi(H,W)\n",
    "print(ed)\n",
    "print(ED)\n",
    "np.linalg.norm(ed-ED)"
   ]
  },
  {
   "cell_type": "code",
   "execution_count": null,
   "metadata": {},
   "outputs": [],
   "source": []
  }
 ],
 "metadata": {
  "kernelspec": {
   "display_name": "Python 3",
   "language": "python",
   "name": "python3"
  },
  "language_info": {
   "codemirror_mode": {
    "name": "ipython",
    "version": 3
   },
   "file_extension": ".py",
   "mimetype": "text/x-python",
   "name": "python",
   "nbconvert_exporter": "python",
   "pygments_lexer": "ipython3",
   "version": "3.6.3"
  }
 },
 "nbformat": 4,
 "nbformat_minor": 2
}
